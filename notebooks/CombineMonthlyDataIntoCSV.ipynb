{
  "nbformat": 4,
  "nbformat_minor": 0,
  "metadata": {
    "colab": {
      "provenance": []
    },
    "kernelspec": {
      "name": "python3",
      "display_name": "Python 3"
    },
    "language_info": {
      "name": "python"
    }
  },
  "cells": [
    {
      "cell_type": "code",
      "execution_count": 1,
      "metadata": {
        "id": "cOvctxpiYC_X"
      },
      "outputs": [],
      "source": [
        "import pandas as pd\n",
        "def read_file(filename):\n",
        "  try:\n",
        "    df = pd.read_csv(filename)\n",
        "    return df\n",
        "  except FileNotFoundError:\n",
        "    print(f\"Error: File '{filename}' not found.\")\n",
        "    return None\n",
        "  except pd.errors.ParserError:\n",
        "    print(f\"Error: Could not parse file '{filename}'. Please check the file format.\")\n",
        "    return None\n",
        "  except Exception as e:\n",
        "    print(f\"An unexpected error occurred: {e}\")\n",
        "    return None\n"
      ]
    },
    {
      "cell_type": "code",
      "source": [
        "all_dfs = []\n",
        "for i in range(2021, 2023 + 1):\n",
        "    for j in range(1, 12 + 1):\n",
        "        month_str = str(j).zfill(2)\n",
        "        filename = f\"en_climate_hourly_ON_6106001_{month_str}-{i}_P1H.csv\"  # Replace with your actual filename pattern\n",
        "        print(filename)\n",
        "        df = read_file(filename)\n",
        "        if df is not None:\n",
        "            all_dfs.append(df)\n",
        "\n",
        "if all_dfs:\n",
        "    combined_df = pd.concat(all_dfs, ignore_index=True)\n",
        "    print(combined_df) # Or save it to a new file\n",
        "else:\n",
        "    print(\"No valid dataframes to combine.\")"
      ],
      "metadata": {
        "colab": {
          "base_uri": "https://localhost:8080/"
        },
        "id": "Biqm8JYVYL-j",
        "outputId": "db11369a-b974-441c-dc8b-e656b144af51"
      },
      "execution_count": 5,
      "outputs": [
        {
          "output_type": "stream",
          "name": "stdout",
          "text": [
            "en_climate_hourly_ON_6106001_01-2021_P1H.csv\n",
            "en_climate_hourly_ON_6106001_02-2021_P1H.csv\n",
            "en_climate_hourly_ON_6106001_03-2021_P1H.csv\n",
            "en_climate_hourly_ON_6106001_04-2021_P1H.csv\n",
            "en_climate_hourly_ON_6106001_05-2021_P1H.csv\n",
            "en_climate_hourly_ON_6106001_06-2021_P1H.csv\n",
            "en_climate_hourly_ON_6106001_07-2021_P1H.csv\n",
            "en_climate_hourly_ON_6106001_08-2021_P1H.csv\n",
            "en_climate_hourly_ON_6106001_09-2021_P1H.csv\n",
            "en_climate_hourly_ON_6106001_10-2021_P1H.csv\n",
            "en_climate_hourly_ON_6106001_11-2021_P1H.csv\n",
            "en_climate_hourly_ON_6106001_12-2021_P1H.csv\n",
            "en_climate_hourly_ON_6106001_01-2022_P1H.csv\n",
            "en_climate_hourly_ON_6106001_02-2022_P1H.csv\n",
            "en_climate_hourly_ON_6106001_03-2022_P1H.csv\n",
            "en_climate_hourly_ON_6106001_04-2022_P1H.csv\n",
            "en_climate_hourly_ON_6106001_05-2022_P1H.csv\n",
            "en_climate_hourly_ON_6106001_06-2022_P1H.csv\n",
            "en_climate_hourly_ON_6106001_07-2022_P1H.csv\n",
            "en_climate_hourly_ON_6106001_08-2022_P1H.csv\n",
            "en_climate_hourly_ON_6106001_09-2022_P1H.csv\n",
            "en_climate_hourly_ON_6106001_10-2022_P1H.csv\n",
            "en_climate_hourly_ON_6106001_11-2022_P1H.csv\n",
            "en_climate_hourly_ON_6106001_12-2022_P1H.csv\n",
            "en_climate_hourly_ON_6106001_01-2023_P1H.csv\n",
            "en_climate_hourly_ON_6106001_02-2023_P1H.csv\n",
            "en_climate_hourly_ON_6106001_03-2023_P1H.csv\n",
            "en_climate_hourly_ON_6106001_04-2023_P1H.csv\n",
            "en_climate_hourly_ON_6106001_05-2023_P1H.csv\n",
            "en_climate_hourly_ON_6106001_06-2023_P1H.csv\n",
            "en_climate_hourly_ON_6106001_07-2023_P1H.csv\n",
            "en_climate_hourly_ON_6106001_08-2023_P1H.csv\n",
            "en_climate_hourly_ON_6106001_09-2023_P1H.csv\n",
            "en_climate_hourly_ON_6106001_10-2023_P1H.csv\n",
            "en_climate_hourly_ON_6106001_11-2023_P1H.csv\n",
            "en_climate_hourly_ON_6106001_12-2023_P1H.csv\n",
            "       Longitude (x)  Latitude (y)   Station Name  Climate ID  \\\n",
            "0             -75.67         45.32  OTTAWA INTL A     6106001   \n",
            "1             -75.67         45.32  OTTAWA INTL A     6106001   \n",
            "2             -75.67         45.32  OTTAWA INTL A     6106001   \n",
            "3             -75.67         45.32  OTTAWA INTL A     6106001   \n",
            "4             -75.67         45.32  OTTAWA INTL A     6106001   \n",
            "...              ...           ...            ...         ...   \n",
            "26275         -75.67         45.32  OTTAWA INTL A     6106001   \n",
            "26276         -75.67         45.32  OTTAWA INTL A     6106001   \n",
            "26277         -75.67         45.32  OTTAWA INTL A     6106001   \n",
            "26278         -75.67         45.32  OTTAWA INTL A     6106001   \n",
            "26279         -75.67         45.32  OTTAWA INTL A     6106001   \n",
            "\n",
            "        Date/Time (LST)  Year  Month  Day Time (LST)  Temp (°C)  ...  \\\n",
            "0      2021-01-01 00:00  2021      1    1      00:00       -3.4  ...   \n",
            "1      2021-01-01 01:00  2021      1    1      01:00       -4.0  ...   \n",
            "2      2021-01-01 02:00  2021      1    1      02:00       -4.1  ...   \n",
            "3      2021-01-01 03:00  2021      1    1      03:00       -4.1  ...   \n",
            "4      2021-01-01 04:00  2021      1    1      04:00       -3.8  ...   \n",
            "...                 ...   ...    ...  ...        ...        ...  ...   \n",
            "26275  2023-12-31 19:00  2023     12   31      19:00       -6.7  ...   \n",
            "26276  2023-12-31 20:00  2023     12   31      20:00       -6.6  ...   \n",
            "26277  2023-12-31 21:00  2023     12   31      21:00       -8.0  ...   \n",
            "26278  2023-12-31 22:00  2023     12   31      22:00       -7.5  ...   \n",
            "26279  2023-12-31 23:00  2023     12   31      23:00       -6.7  ...   \n",
            "\n",
            "       Wind Spd Flag  Visibility (km)  Visibility Flag  Stn Press (kPa)  \\\n",
            "0                NaN             24.1              NaN           101.68   \n",
            "1                NaN             24.1              NaN           101.65   \n",
            "2                NaN             24.1              NaN           101.73   \n",
            "3                NaN             24.1              NaN           101.76   \n",
            "4                NaN             24.1              NaN           101.74   \n",
            "...              ...              ...              ...              ...   \n",
            "26275            NaN             24.1              NaN           100.37   \n",
            "26276            NaN             24.1              NaN           100.35   \n",
            "26277            NaN             24.1              NaN           100.37   \n",
            "26278            NaN             24.1              NaN           100.38   \n",
            "26279            NaN             24.1              NaN           100.41   \n",
            "\n",
            "      Stn Press Flag  Hmdx  Hmdx Flag  Wind Chill  Wind Chill Flag  \\\n",
            "0                NaN   NaN        NaN        -7.0              NaN   \n",
            "1                NaN   NaN        NaN        -7.0              NaN   \n",
            "2                NaN   NaN        NaN        -7.0              NaN   \n",
            "3                NaN   NaN        NaN        -6.0              NaN   \n",
            "4                NaN   NaN        NaN        -6.0              NaN   \n",
            "...              ...   ...        ...         ...              ...   \n",
            "26275            NaN   NaN        NaN        -9.0              NaN   \n",
            "26276            NaN   NaN        NaN       -10.0              NaN   \n",
            "26277            NaN   NaN        NaN       -12.0              NaN   \n",
            "26278            NaN   NaN        NaN       -11.0              NaN   \n",
            "26279            NaN   NaN        NaN       -11.0              NaN   \n",
            "\n",
            "             Weather  \n",
            "0                NaN  \n",
            "1       Mainly Clear  \n",
            "2                NaN  \n",
            "3                NaN  \n",
            "4             Cloudy  \n",
            "...              ...  \n",
            "26275  Mostly Cloudy  \n",
            "26276            NaN  \n",
            "26277            NaN  \n",
            "26278  Mostly Cloudy  \n",
            "26279            NaN  \n",
            "\n",
            "[26280 rows x 30 columns]\n"
          ]
        }
      ]
    },
    {
      "cell_type": "code",
      "source": [
        "combined_df.to_csv('combined_data.csv', index=False)"
      ],
      "metadata": {
        "id": "KN80I1vDZHn9"
      },
      "execution_count": 7,
      "outputs": []
    }
  ]
}